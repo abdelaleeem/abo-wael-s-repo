{
 "cells": [
  {
   "cell_type": "code",
   "execution_count": 1,
   "metadata": {},
   "outputs": [],
   "source": [
    "import os\n",
    "import pytesseract\n",
    "from PIL import Image"
   ]
  },
  {
   "cell_type": "code",
   "execution_count": 8,
   "metadata": {},
   "outputs": [
    {
     "name": "stdout",
     "output_type": "stream",
     "text": [
      "Requirement already satisfied: pytesseract in c:\\users\\abdelaleem\\anaconda3\\lib\\site-packages (0.3.13)Note: you may need to restart the kernel to use updated packages.\n",
      "\n",
      "Requirement already satisfied: packaging>=21.3 in c:\\users\\abdelaleem\\anaconda3\\lib\\site-packages (from pytesseract) (23.0)\n",
      "Requirement already satisfied: Pillow>=8.0.0 in c:\\users\\abdelaleem\\anaconda3\\lib\\site-packages (from pytesseract) (10.3.0)\n"
     ]
    }
   ],
   "source": [
    "pip install pytesseract"
   ]
  },
  {
   "cell_type": "code",
   "execution_count": 3,
   "metadata": {},
   "outputs": [],
   "source": [
    "os.chdir(\"D:\\wael pics\")"
   ]
  },
  {
   "cell_type": "code",
   "execution_count": 4,
   "metadata": {},
   "outputs": [
    {
     "data": {
      "text/plain": [
       "'D:\\\\wael pics'"
      ]
     },
     "execution_count": 4,
     "metadata": {},
     "output_type": "execute_result"
    }
   ],
   "source": [
    "os.getcwd()"
   ]
  },
  {
   "cell_type": "code",
   "execution_count": 12,
   "metadata": {},
   "outputs": [
    {
     "name": "stdout",
     "output_type": "stream",
     "text": [
      "Processing WhatsApp Image 2024-10-14 at 19.31.10_07b68c3d.jpg\n",
      "Processing WhatsApp Image 2024-10-14 at 19.31.10_1e12616c.jpg\n",
      "Processing WhatsApp Image 2024-10-14 at 19.31.10_f9f5596a.jpg\n",
      "Processing WhatsApp Image 2024-10-14 at 19.31.11_7f53f88a.jpg\n",
      "OCR extraction and combining completed!\n"
     ]
    }
   ],
   "source": [
    "input_folder = os.getcwd()\n",
    "output_folder = r'D:\\wael text'\n",
    "combined_output_path = os.path.join(output_folder, 'combined_output.txt')\n",
    "\n",
    "pytesseract.pytesseract.tesseract_cmd = r'C:\\Program Files\\Tesseract-OCR\\tesseract.exe'\n",
    "\n",
    "# Remove the combined output file if it exists\n",
    "if os.path.exists(combined_output_path):\n",
    "    os.remove(combined_output_path)\n",
    "\n",
    "# Open the combined output file in append mode\n",
    "with open(combined_output_path, \"a\") as combined_file:\n",
    "    for image_name in os.listdir(input_folder):\n",
    "        print(f\"Processing {image_name}\")\n",
    "\n",
    "        image_path = os.path.join(input_folder, image_name)\n",
    "        image = Image.open(image_path)\n",
    "\n",
    "        # Extract text using pytesseract\n",
    "        text = pytesseract.image_to_string(image)\n",
    "\n",
    "        # Save individual text files\n",
    "        output_path = os.path.join(output_folder, image_name.replace(\".jpg\", \".txt\"))\n",
    "        with open(output_path, \"w\") as text_file:\n",
    "            text_file.write(text)\n",
    "\n",
    "        # Append the current text to the combined file\n",
    "        combined_file.write(f\"--- {image_name} ---\\n\")\n",
    "        combined_file.write(text)\n",
    "        combined_file.write(\"\\n\\n\")  # Add space between entries\n",
    "\n",
    "print(\"OCR extraction and combining completed!\")\n"
   ]
  }
 ],
 "metadata": {
  "kernelspec": {
   "display_name": "base",
   "language": "python",
   "name": "python3"
  },
  "language_info": {
   "codemirror_mode": {
    "name": "ipython",
    "version": 3
   },
   "file_extension": ".py",
   "mimetype": "text/x-python",
   "name": "python",
   "nbconvert_exporter": "python",
   "pygments_lexer": "ipython3",
   "version": "3.11.4"
  }
 },
 "nbformat": 4,
 "nbformat_minor": 2
}
